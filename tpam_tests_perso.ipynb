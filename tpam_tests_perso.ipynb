{
 "cells": [
  {
   "cell_type": "markdown",
   "metadata": {},
   "source": [
    "# Modules"
   ]
  },
  {
   "cell_type": "code",
   "execution_count": 2,
   "metadata": {},
   "outputs": [],
   "source": [
    "import sys\n",
    "sys.path.append('../brian2')"
   ]
  },
  {
   "cell_type": "code",
   "execution_count": 3,
   "metadata": {},
   "outputs": [],
   "source": [
    "from __future__ import division\n",
    "\n",
    "from pylab import *\n",
    "from brian2 import *\n",
    "import time\n",
    "\n",
    "from brian2.units.allunits import henry\n",
    "\n",
    "%matplotlib inline\n",
    "\n",
    "plt.rcParams.update({'font.size': 18})\n",
    "plt.rcParams.update({'text.usetex': True})\n",
    "matplotlib.rcParams['text.latex.preamble'] = [\n",
    "    r'\\usepackage{amsmath}',\n",
    "    r'\\usepackage{amssymb}']\n",
    "plt.rcParams.update({'font.family': 'serif', \n",
    "                     'font.serif':['Computer Modern']})"
   ]
  },
  {
   "cell_type": "markdown",
   "metadata": {},
   "source": [
    "# Functions"
   ]
  },
  {
   "cell_type": "code",
   "execution_count": 5,
   "metadata": {},
   "outputs": [],
   "source": [
    "def crvec(N, D=1):\n",
    "    rphase = 2*np.pi * np.random.rand(D, N)\n",
    "    return np.cos(rphase) + 1.0j * np.sin(rphase)\n"
   ]
  },
  {
   "cell_type": "code",
   "execution_count": 10,
   "metadata": {},
   "outputs": [
    {
     "data": {
      "image/png": "[encoded data removed]",
      "text/plain": [
       "<Figure size 432x288 with 1 Axes>"
      ]
     },
     "metadata": {
      "needs_background": "light"
     },
     "output_type": "display_data"
    }
   ],
   "source": [
    "Z_rand=crvec(100)\n",
    "plot(Z_rand.real,Z_rand.imag,'+')\n",
    "show()"
   ]
  },
  {
   "cell_type": "code",
   "execution_count": 11,
   "metadata": {},
   "outputs": [],
   "source": [
    "def norm_range(v):\n",
    "    return (v-v.min())/(v.max()-v.min())"
   ]
  },
  {
   "cell_type": "code",
   "execution_count": 12,
   "metadata": {},
   "outputs": [],
   "source": [
    "def activation_thresh(x, sigma=0.0, c_thresh=None):\n",
    "    \n",
    "    if c_thresh is None:\n",
    "        N = x.shape[0]\n",
    "        c_thresh = 2.0 / N**0.5\n",
    "        \n",
    "    xn = np.abs(x)\n",
    "    \n",
    "    a = (x ) / (np.abs(x) + 1e-12)\n",
    "    a[xn < c_thresh] = 0\n",
    "    \n",
    "    return a"
   ]
  },
  {
   "cell_type": "code",
   "execution_count": 29,
   "metadata": {},
   "outputs": [],
   "source": [
    "def cviz_im(cvec):\n",
    "    ss = int(len(cvec)**0.5)\n",
    "    \n",
    "    ss_idx = ss**2\n",
    "    \n",
    "    im_cvec = np.zeros((ss, ss,3))\n",
    "#     im_cvec[:,:,3]=1\n",
    "    c=0\n",
    "    for i in range(ss):\n",
    "        for j in range(ss):\n",
    "            if np.abs(cvec[c]) > 0.05:\n",
    "                im_cvec[i,j,:] = matplotlib.colors.hsv_to_rgb([(np.angle(cvec[c])/2/pi + 1) % 1, 1, 1])\n",
    "                \n",
    "            c+=1\n",
    "                \n",
    "    return im_cvec\n",
    "    "
   ]
  },
  {
   "cell_type": "code",
   "execution_count": 30,
   "metadata": {},
   "outputs": [
    {
     "data": {
      "image/png": "[encoded data removed]",
      "text/plain": [
       "<Figure size 432x288 with 1 Axes>"
      ]
     },
     "metadata": {
      "needs_background": "light"
     },
     "output_type": "display_data"
    }
   ],
   "source": [
    "Z_rand=crvec(100)\n",
    "imshow(cviz_im(Z_rand[0,:]))\n",
    "show()"
   ]
  },
  {
   "cell_type": "code",
   "execution_count": 31,
   "metadata": {},
   "outputs": [],
   "source": [
    "def phase2spikes(cv, freq=5.0):\n",
    "    st = np.angle(cv) / (2*pi*freq)\n",
    "    return st"
   ]
  },
  {
   "cell_type": "markdown",
   "metadata": {},
   "source": [
    "# Threshold Phasor Associative Memory"
   ]
  },
  {
   "cell_type": "markdown",
   "metadata": {},
   "source": [
    "## Store random sparse phasor patterns in the network"
   ]
  },
  {
   "cell_type": "code",
   "execution_count": 40,
   "metadata": {},
   "outputs": [],
   "source": [
    "N=25**2 # Neurons\n",
    "D=201 # Patterns\n",
    "Ks=25 # Sparsity\n",
    "\n",
    "letter_vectors_c = crvec(N, D)\n",
    "\n",
    "for d in range(D):\n",
    "    ip = np.random.choice(N, size=(N-Ks), replace=False)\n",
    "    letter_vectors_c[d, ip] = 0\n",
    "    \n",
    "letter_vectors = 2 * (np.random.randn(D,N) < 0) - 1 # Ligne bizarre !\n"
   ]
  },
  {
   "cell_type": "code",
   "execution_count": 42,
   "metadata": {},
   "outputs": [
    {
     "data": {
      "text/plain": [
       "<matplotlib.image.AxesImage at 0x7f02cef4f4d0>"
      ]
     },
     "execution_count": 42,
     "metadata": {},
     "output_type": "execute_result"
    },
    {
     "data": {
      "image/png": "[encoded data removed]",
      "text/plain": [
       "<Figure size 432x288 with 1 Axes>"
      ]
     },
     "metadata": {
      "needs_background": "light"
     },
     "output_type": "display_data"
    }
   ],
   "source": [
    "letter_vectors.shape\n",
    "imshow(letter_vectors_c.real)"
   ]
  },
  {
   "cell_type": "code",
   "execution_count": 43,
   "metadata": {},
   "outputs": [],
   "source": [
    "J_c = np.dot(letter_vectors_c.T, np.conj(letter_vectors_c))\n",
    "np.fill_diagonal(J_c, 0)"
   ]
  },
  {
   "cell_type": "code",
   "execution_count": 44,
   "metadata": {},
   "outputs": [
    {
     "data": {
      "text/plain": [
       "(625, 625)"
      ]
     },
     "execution_count": 44,
     "metadata": {},
     "output_type": "execute_result"
    }
   ],
   "source": [
    "J_c.shape"
   ]
  },
  {
   "cell_type": "markdown",
   "metadata": {},
   "source": [
    "## Network dynamics and simulations"
   ]
  },
  {
   "cell_type": "code",
   "execution_count": 83,
   "metadata": {},
   "outputs": [
    {
     "data": {
      "text/plain": [
       "[<matplotlib.lines.Line2D at 0x7f02cb739e50>]"
      ]
     },
     "execution_count": 83,
     "metadata": {},
     "output_type": "execute_result"
    },
    {
     "data": {
      "image/png": "[encoded data removed]",
      "text/plain": [
       "<Figure size 432x288 with 1 Axes>"
      ]
     },
     "metadata": {
      "needs_background": "light"
     },
     "output_type": "display_data"
    }
   ],
   "source": [
    "max_steps = 20 # Iterations\n",
    "hop_hist = np.zeros((D, max_steps+1))\n",
    "hop_s_hist = np.zeros((N, max_steps+1), 'complex')\n",
    "\n",
    "target_idx = 100\n",
    "\n",
    "hop_state_i = letter_vectors_c[target_idx,:].copy()\n",
    "hop_state_i[:300] = 0 # Add JL :Partial cf fig2\n",
    "\n",
    "noise_state = 0.05 * np.random.randn(N) * np.squeeze(crvec(N,1)) #2*(np.random.randn(N) < 0) - 1\n",
    "hop_state = hop_state_i + noise_state\n",
    "\n",
    "hop_state /= norm(hop_state)\n",
    "\n",
    "cols = get_cmap('copper', max_steps)\n",
    "\n",
    "c_thresh = 0.6/Ks**0.5\n",
    "for i in range(max_steps):\n",
    "    hop_hist[:,i] = np.real(np.dot(np.conj(letter_vectors_c), hop_state))    \n",
    "    hop_s_hist[:,i] = hop_state\n",
    "    \n",
    "    hop_u = np.dot(J_c, hop_state) / Ks\n",
    "    hop_state = activation_thresh(hop_u, c_thresh=c_thresh )\n",
    "    hop_state /= norm(hop_state)\n",
    "\n",
    "    plot(hop_hist[:,i], c=cols(i))\n",
    "\n",
    "hop_hist[:,i+1] =  np.real(np.dot(np.conj(letter_vectors_c), hop_state))\n",
    "plot(hop_hist[:,i], c=cols(i))"
   ]
  },
  {
   "cell_type": "code",
   "execution_count": 82,
   "metadata": {},
   "outputs": [
    {
     "data": {
      "text/plain": [
       "nan"
      ]
     },
     "execution_count": 82,
     "metadata": {},
     "output_type": "execute_result"
    }
   ],
   "source": [
    "norm(hop_state)"
   ]
  },
  {
   "cell_type": "code",
   "execution_count": 74,
   "metadata": {},
   "outputs": [
    {
     "data": {
      "text/plain": [
       "25"
      ]
     },
     "execution_count": 74,
     "metadata": {},
     "output_type": "execute_result"
    }
   ],
   "source": [
    "hop_u = np.dot(J_c, hop_state) / Ks\n",
    "norm(activation_thresh(hop_u, c_thresh=c_thresh ))\n",
    "Ks"
   ]
  },
  {
   "cell_type": "code",
   "execution_count": 84,
   "metadata": {},
   "outputs": [
    {
     "data": {
      "text/plain": [
       "[<matplotlib.lines.Line2D at 0x7f02cb690650>,\n",
       " <matplotlib.lines.Line2D at 0x7f02cb6908d0>,\n",
       " <matplotlib.lines.Line2D at 0x7f02cb690a90>,\n",
       " <matplotlib.lines.Line2D at 0x7f02cb690c50>,\n",
       " <matplotlib.lines.Line2D at 0x7f02cb690e10>,\n",
       " <matplotlib.lines.Line2D at 0x7f02cb619050>,\n",
       " <matplotlib.lines.Line2D at 0x7f02cb619250>,\n",
       " <matplotlib.lines.Line2D at 0x7f02cb619410>,\n",
       " <matplotlib.lines.Line2D at 0x7f02cb690dd0>,\n",
       " <matplotlib.lines.Line2D at 0x7f02cb690fd0>]"
      ]
     },
     "execution_count": 84,
     "metadata": {},
     "output_type": "execute_result"
    },
    {
     "data": {
      "image/png": "[encoded data removed]",
      "text/plain": [
       "<Figure size 432x288 with 1 Axes>"
      ]
     },
     "metadata": {
      "needs_background": "light"
     },
     "output_type": "display_data"
    }
   ],
   "source": [
    "plot(hop_hist[:,0:10])"
   ]
  },
  {
   "cell_type": "code",
   "execution_count": 51,
   "metadata": {},
   "outputs": [
    {
     "data": {
      "text/plain": [
       "Text(0.5, 1.0, 'Target')"
      ]
     },
     "execution_count": 51,
     "metadata": {},
     "output_type": "execute_result"
    },
    {
     "data": {
      "image/png": "[encoded data removed]",
      "text/plain": [
       "<Figure size 432x216 with 3 Axes>"
      ]
     },
     "metadata": {
      "needs_background": "light"
     },
     "output_type": "display_data"
    }
   ],
   "source": [
    "figure(figsize=(6,3))\n",
    "\n",
    "subplot(131)\n",
    "imshow(cviz_im(hop_state_i))\n",
    "title('Initial')\n",
    "subplot(132)\n",
    "imshow(cviz_im(hop_s_hist[:, -2]))\n",
    "title('Converged')\n",
    "subplot(133)\n",
    "imshow(cviz_im(letter_vectors_c[target_idx,:]))\n",
    "title('Target')"
   ]
  },
  {
   "cell_type": "markdown",
   "metadata": {},
   "source": [
    "## Influence of parameters (N, D, Ks)"
   ]
  },
  {
   "cell_type": "markdown",
   "metadata": {},
   "source": [
    "Reproduce Figure 3 of PNAS paper"
   ]
  },
  {
   "cell_type": "code",
   "execution_count": 85,
   "metadata": {},
   "outputs": [],
   "source": [
    "def generate_random_pattern(N,D,Ks):\n",
    "    letter_vectors_c = crvec(N, D)\n",
    "\n",
    "    for d in range(D):\n",
    "        ip = np.random.choice(N, size=(N-Ks), replace=False)\n",
    "        letter_vectors_c[d, ip] = 0\n",
    "        \n",
    "    return letter_vectors_c\n"
   ]
  },
  {
   "cell_type": "code",
   "execution_count": 86,
   "metadata": {},
   "outputs": [],
   "source": [
    "def learning(letter_vectors_c):\n",
    "    J_c = np.dot(letter_vectors_c.T, np.conj(letter_vectors_c))\n",
    "    np.fill_diagonal(J_c, 0)\n",
    "    return J_c"
   ]
  },
  {
   "cell_type": "code",
   "execution_count": 195,
   "metadata": {},
   "outputs": [],
   "source": [
    "def recall(letter_vectors_c,J_c,Ks,max_steps = 20,noise_level=0.05,target_idx = 100,end=0):\n",
    "    \n",
    "    D=letter_vectors_c.shape[0]\n",
    "    N=letter_vectors_c.shape[1]\n",
    "    \n",
    "    hop_hist = np.zeros((D, max_steps+1))\n",
    "    hop_s_hist = np.zeros((N, max_steps+1), 'complex')\n",
    "    similarity = np.zeros((max_steps,))\n",
    "\n",
    "    hop_state_i = letter_vectors_c[target_idx,:].copy()\n",
    "    hop_state_i[:end] = 0 # Add JL :Partial cf fig2\n",
    "\n",
    "    noise_state = noise_level * np.random.randn(N) * np.squeeze(crvec(N,1)) #2*(np.random.randn(N) < 0) - 1\n",
    "    hop_state = hop_state_i + noise_state\n",
    "\n",
    "    hop_state /= norm(hop_state)\n",
    "\n",
    "    c_thresh = 0.6/Ks**0.5\n",
    "    for i in range(max_steps):\n",
    "        similarity[i]=np.dot(hop_state,np.conj(hop_state_i))/(norm(hop_state)*norm(hop_state_i))\n",
    "        hop_hist[:,i] = np.real(np.dot(np.conj(letter_vectors_c), hop_state))    \n",
    "        hop_s_hist[:,i] = hop_state\n",
    "\n",
    "        hop_u = np.dot(J_c, hop_state) / Ks\n",
    "        hop_state = activation_thresh(hop_u, c_thresh=c_thresh ) # JL: may be a problem with a lot of noise\n",
    "        #print(hop_state[0:10])\n",
    "        #print(np.sum(hop_state<0),np.sum(hop_state>0))\n",
    "\n",
    "        hop_state /= norm(hop_state)\n",
    "        \n",
    "    return hop_state, hop_state_i, hop_hist, hop_s_hist, similarity"
   ]
  },
  {
   "cell_type": "code",
   "execution_count": 217,
   "metadata": {},
   "outputs": [],
   "source": [
    "def average_recall(letter_vectors_c,J_c,Ks,Nsimus=100,max_steps = 20,noise_level=0.05,end=0):\n",
    "    \n",
    "    D=letter_vectors_c.shape[0]\n",
    "    random_idx=np.random.permutation(D)\n",
    "    \n",
    "    if Nsimus>=D:\n",
    "        Nsimus = D\n",
    "        \n",
    "    similarities = np.zeros((Nsimus,))\n",
    "    \n",
    "    for i in range(Nsimus):\n",
    "        idx = random_idx[i]\n",
    "        outputs = recall(letter_vectors_c,J_c,Ks,max_steps=max_steps,noise_level=noise_level,target_idx=idx,end=end)\n",
    "        similarities[i] = outputs[4][-1]\n",
    "        \n",
    "    return similarities"
   ]
  },
  {
   "cell_type": "code",
   "execution_count": 230,
   "metadata": {},
   "outputs": [],
   "source": [
    "def average_recall_with_pattern(N,Ks):\n",
    "    all_D=np.int64(np.exp(np.arange(1,3,0.1)*np.log(10)))\n",
    "    \n",
    "    all_similarities=np.zeros((len(all_D),))\n",
    "    \n",
    "    for i in range(len(all_similarities)):\n",
    "        letter_vectors_c=generate_random_pattern(N,D,Ks)\n",
    "        J_c=learning(letter_vectors_c)\n",
    "        similarities = average_recall(letter_vectors_c,J_c,Ks,Nsimus=100,max_steps = 20,noise_level=0.05,end=0)\n",
    "        all_similarities[i] = np.mean(similarities)\n",
    "        \n",
    "    return all_similarities,all_D"
   ]
  },
  {
   "cell_type": "markdown",
   "metadata": {},
   "source": [
    "## Sandbox"
   ]
  },
  {
   "cell_type": "code",
   "execution_count": 238,
   "metadata": {},
   "outputs": [
    {
     "name": "stderr",
     "output_type": "stream",
     "text": [
      "WARNING    /home/julienlefevre/Documents/Softs/anaconda3/lib/python3.7/site-packages/ipykernel_launcher.py:20: ComplexWarning: Casting complex values to real discards the imaginary part\n",
      " [py.warnings]\n"
     ]
    },
    {
     "name": "stdout",
     "output_type": "stream",
     "text": [
      "9.33906888961792\n"
     ]
    }
   ],
   "source": [
    "# Test of average_recall_with_pattern\n",
    "\n",
    "N=400\n",
    "Ks = 50\n",
    "t1=time.time()\n",
    "all_similarities,all_D = average_recall_with_pattern(N,Ks)\n",
    "print(time.time()-t1)"
   ]
  },
  {
   "cell_type": "code",
   "execution_count": 240,
   "metadata": {},
   "outputs": [
    {
     "data": {
      "text/plain": [
       "[<matplotlib.lines.Line2D at 0x7f02bbb13950>]"
      ]
     },
     "execution_count": 240,
     "metadata": {},
     "output_type": "execute_result"
    },
    {
     "data": {
      "image/png": "[encoded data removed]",
      "text/plain": [
       "<Figure size 432x288 with 1 Axes>"
      ]
     },
     "metadata": {
      "needs_background": "light"
     },
     "output_type": "display_data"
    }
   ],
   "source": [
    "plot(all_D, all_similarities)"
   ]
  },
  {
   "cell_type": "code",
   "execution_count": 218,
   "metadata": {},
   "outputs": [
    {
     "name": "stderr",
     "output_type": "stream",
     "text": [
      "WARNING    /home/julienlefevre/Documents/Softs/anaconda3/lib/python3.7/site-packages/ipykernel_launcher.py:20: ComplexWarning: Casting complex values to real discards the imaginary part\n",
      " [py.warnings]\n"
     ]
    }
   ],
   "source": [
    "# Test of average_recall\n",
    "\n",
    "similarities = average_recall(letter_vectors_c,J_c,Ks,Nsimus=100,max_steps = 20,noise_level=0.05,end=0)"
   ]
  },
  {
   "cell_type": "code",
   "execution_count": 219,
   "metadata": {},
   "outputs": [
    {
     "data": {
      "text/plain": [
       "[<matplotlib.lines.Line2D at 0x7f02c830da50>]"
      ]
     },
     "execution_count": 219,
     "metadata": {},
     "output_type": "execute_result"
    },
    {
     "data": {
      "image/png": "[encoded data removed]",
      "text/plain": [
       "<Figure size 432x288 with 1 Axes>"
      ]
     },
     "metadata": {
      "needs_background": "light"
     },
     "output_type": "display_data"
    }
   ],
   "source": [
    "plot(similarities)"
   ]
  },
  {
   "cell_type": "code",
   "execution_count": 204,
   "metadata": {},
   "outputs": [
    {
     "name": "stderr",
     "output_type": "stream",
     "text": [
      "WARNING    /home/julienlefevre/Documents/Softs/anaconda3/lib/python3.7/site-packages/ipykernel_launcher.py:20: ComplexWarning: Casting complex values to real discards the imaginary part\n",
      " [py.warnings]\n"
     ]
    }
   ],
   "source": [
    "# Test of function recall\n",
    "\n",
    "idx = 100\n",
    "params = recall(letter_vectors_c,J_c,Ks,max_steps=10,noise_level=.2,target_idx=idx,end=0)\n",
    "hop_state, hop_state_i, hop_hist, hop_s_hist, similarity = params"
   ]
  },
  {
   "cell_type": "code",
   "execution_count": 216,
   "metadata": {},
   "outputs": [
    {
     "data": {
      "text/plain": [
       "0.9978130319645108"
      ]
     },
     "execution_count": 216,
     "metadata": {},
     "output_type": "execute_result"
    }
   ],
   "source": [
    "params[4][-1]"
   ]
  },
  {
   "cell_type": "code",
   "execution_count": 205,
   "metadata": {},
   "outputs": [
    {
     "data": {
      "text/plain": [
       "Text(0.5, 1.0, 'Target')"
      ]
     },
     "execution_count": 205,
     "metadata": {},
     "output_type": "execute_result"
    },
    {
     "data": {
      "image/png": "[encoded data removed]",
      "text/plain": [
       "<Figure size 432x216 with 3 Axes>"
      ]
     },
     "metadata": {
      "needs_background": "light"
     },
     "output_type": "display_data"
    }
   ],
   "source": [
    "figure(figsize=(6,3))\n",
    "\n",
    "subplot(131)\n",
    "imshow(cviz_im(hop_state_i))\n",
    "title('Initial')\n",
    "subplot(132)\n",
    "imshow(cviz_im(hop_s_hist[:, -2]))\n",
    "title('Converged')\n",
    "subplot(133)\n",
    "imshow(cviz_im(letter_vectors_c[target_idx,:]))\n",
    "title('Target')"
   ]
  },
  {
   "cell_type": "code",
   "execution_count": 202,
   "metadata": {},
   "outputs": [
    {
     "data": {
      "image/png": "[encoded data removed]",
      "text/plain": [
       "<Figure size 432x288 with 1 Axes>"
      ]
     },
     "metadata": {
      "needs_background": "light"
     },
     "output_type": "display_data"
    }
   ],
   "source": [
    "plot(similarity)\n",
    "show()"
   ]
  },
  {
   "cell_type": "code",
   "execution_count": 142,
   "metadata": {},
   "outputs": [
    {
     "data": {
      "text/plain": [
       "[<matplotlib.lines.Line2D at 0x7f02c8b7b0d0>]"
      ]
     },
     "execution_count": 142,
     "metadata": {},
     "output_type": "execute_result"
    },
    {
     "data": {
      "image/png": "[encoded data removed]",
      "text/plain": [
       "<Figure size 432x288 with 1 Axes>"
      ]
     },
     "metadata": {
      "needs_background": "light"
     },
     "output_type": "display_data"
    }
   ],
   "source": [
    "plot(activation_thresh(np.dot(J_c, hop_s_hist[:,0])/Ks,0.6/Ks**0.5))"
   ]
  },
  {
   "cell_type": "code",
   "execution_count": 172,
   "metadata": {},
   "outputs": [
    {
     "data": {
      "text/plain": [
       "[1, 2, 3]"
      ]
     },
     "execution_count": 172,
     "metadata": {},
     "output_type": "execute_result"
    }
   ],
   "source": [
    "toto=[1,2,3,4]\n",
    "toto[:3]"
   ]
  },
  {
   "cell_type": "code",
   "execution_count": 194,
   "metadata": {},
   "outputs": [
    {
     "data": {
      "text/plain": [
       "array([[1.        +2.91338686e-18j, 0.12181543-1.17573816e-01j],\n",
       "       [0.12181543+1.17573816e-01j, 1.        -5.31217156e-19j]])"
      ]
     },
     "execution_count": 194,
     "metadata": {},
     "output_type": "execute_result"
    }
   ],
   "source": [
    "np.corrcoef(hop_state,np.conj(hop_state_i))"
   ]
  },
  {
   "cell_type": "code",
   "execution_count": 229,
   "metadata": {},
   "outputs": [
    {
     "data": {
      "text/plain": [
       "array([ 10,  12,  15,  19,  25,  31,  39,  50,  63,  79, 100, 125, 158,\n",
       "       199, 251, 316, 398, 501, 630, 794])"
      ]
     },
     "execution_count": 229,
     "metadata": {},
     "output_type": "execute_result"
    }
   ],
   "source": [
    "np.int64(np.exp(np.arange(1,3,0.1)*np.log(10)))"
   ]
  },
  {
   "cell_type": "code",
   "execution_count": null,
   "metadata": {},
   "outputs": [],
   "source": []
  }
 ],
 "metadata": {
  "kernelspec": {
   "display_name": "Python 3",
   "language": "python",
   "name": "python3"
  },
  "language_info": {
   "codemirror_mode": {
    "name": "ipython",
    "version": 3
   },
   "file_extension": ".py",
   "mimetype": "text/x-python",
   "name": "python",
   "nbconvert_exporter": "python",
   "pygments_lexer": "ipython3",
   "version": "3.7.4"
  }
 },
 "nbformat": 4,
 "nbformat_minor": 2
}
