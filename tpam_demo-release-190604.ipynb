{
 "cells": [
  {
   "cell_type": "code",
   "execution_count": 2,
   "metadata": {},
   "outputs": [],
   "source": [
    "import sys\n",
    "sys.path.append('../brian2') # Added by JL, 2020/07/26"
   ]
  },
  {
   "cell_type": "code",
   "execution_count": 3,
   "metadata": {},
   "outputs": [],
   "source": [
    "from __future__ import division\n",
    "\n",
    "from pylab import *\n",
    "from brian2 import *\n",
    "import time\n",
    "\n",
    "from brian2.units.allunits import henry\n",
    "\n",
    "%matplotlib inline\n",
    "\n",
    "plt.rcParams.update({'font.size': 18})\n",
    "plt.rcParams.update({'text.usetex': True})\n",
    "matplotlib.rcParams['text.latex.preamble'] = [\n",
    "    r'\\usepackage{amsmath}',\n",
    "    r'\\usepackage{amssymb}']\n",
    "plt.rcParams.update({'font.family': 'serif', \n",
    "                     'font.serif':['Computer Modern']})\n"
   ]
  },
  {
   "cell_type": "code",
   "execution_count": 4,
   "metadata": {},
   "outputs": [],
   "source": [
    "def crvec(N, D=1):\n",
    "    rphase = 2*np.pi * np.random.rand(D, N)\n",
    "    return np.cos(rphase) + 1.0j * np.sin(rphase)\n"
   ]
  },
  {
   "cell_type": "code",
   "execution_count": 5,
   "metadata": {},
   "outputs": [],
   "source": [
    "def norm_range(v):\n",
    "    return (v-v.min())/(v.max()-v.min())"
   ]
  },
  {
   "cell_type": "code",
   "execution_count": 6,
   "metadata": {},
   "outputs": [],
   "source": [
    "def activation_thresh(x, sigma=0.0, c_thresh=None):\n",
    "    \n",
    "    if c_thresh is None:\n",
    "        N = x.shape[0]\n",
    "        c_thresh = 2.0 / N**0.5\n",
    "        \n",
    "    xn = np.abs(x)\n",
    "    \n",
    "    a = (x ) / (np.abs(x) + 1e-12)\n",
    "    a[xn < c_thresh] = 0\n",
    "    \n",
    "    return a"
   ]
  },
  {
   "cell_type": "code",
   "execution_count": 7,
   "metadata": {},
   "outputs": [],
   "source": [
    "def cviz_im(cvec):\n",
    "    ss = int(len(cvec)**0.5)\n",
    "    \n",
    "    ss_idx = ss**2\n",
    "    \n",
    "    im_cvec = np.zeros((ss, ss,3))\n",
    "#     im_cvec[:,:,3]=1\n",
    "    c=0\n",
    "    for i in range(ss):\n",
    "        for j in range(ss):\n",
    "            if np.abs(cvec[c]) > 0.05:\n",
    "                im_cvec[i,j,:] = matplotlib.colors.hsv_to_rgb([(np.angle(cvec[c])/2/pi + 1) % 1, 1, 1])\n",
    "                \n",
    "            c+=1\n",
    "                \n",
    "    return im_cvec\n",
    "    "
   ]
  },
  {
   "cell_type": "code",
   "execution_count": 8,
   "metadata": {},
   "outputs": [],
   "source": [
    "def phase2spikes(cv, freq=5.0):\n",
    "    st = np.angle(cv) / (2*pi*freq)\n",
    "    return st"
   ]
  },
  {
   "cell_type": "markdown",
   "metadata": {},
   "source": [
    "# Threshold Phasor Associative Memory\n",
    "\n"
   ]
  },
  {
   "cell_type": "markdown",
   "metadata": {},
   "source": [
    "## Store random sparse phasor patterns in the network"
   ]
  },
  {
   "cell_type": "code",
   "execution_count": 43,
   "metadata": {},
   "outputs": [],
   "source": [
    "N=25**2\n",
    "D=201\n",
    "Ks=25\n",
    "\n",
    "letter_vectors_c = crvec(N, D)\n",
    "\n",
    "for d in range(D):\n",
    "    ip = np.random.choice(N, size=(N-Ks), replace=False)\n",
    "    letter_vectors_c[d, ip] = 0\n",
    "    \n",
    "letter_vectors = 2 * (np.random.randn(D,N) < 0) - 1\n"
   ]
  },
  {
   "cell_type": "code",
   "execution_count": 40,
   "metadata": {},
   "outputs": [],
   "source": [
    "J_c = np.dot(letter_vectors_c.T, np.conj(letter_vectors_c))\n",
    "np.fill_diagonal(J_c, 0)"
   ]
  },
  {
   "cell_type": "markdown",
   "metadata": {},
   "source": [
    "## Network dynamics and simulations"
   ]
  },
  {
   "cell_type": "code",
   "execution_count": 41,
   "metadata": {},
   "outputs": [
    {
     "data": {
      "text/plain": [
       "[<matplotlib.lines.Line2D at 0x7ff499e1e2d0>]"
      ]
     },
     "execution_count": 41,
     "metadata": {},
     "output_type": "execute_result"
    },
    {
     "data": {
      "image/png": "[encoded data removed]",
      "text/plain": [
       "<Figure size 432x288 with 1 Axes>"
      ]
     },
     "metadata": {
      "needs_background": "light"
     },
     "output_type": "display_data"
    }
   ],
   "source": [
    "max_steps = 20\n",
    "hop_hist = np.zeros((D, max_steps+1))\n",
    "hop_s_hist = np.zeros((N, max_steps+1), 'complex')\n",
    "\n",
    "target_idx = 100\n",
    "\n",
    "hop_state_i = letter_vectors_c[target_idx,:].copy()\n",
    "hop_state_i[:300] = 0\n",
    "\n",
    "noise_state = 0.0 * np.random.randn(N) * np.squeeze(crvec(N,1)) #2*(np.random.randn(N) < 0) - 1\n",
    "hop_state = hop_state_i + noise_state\n",
    "\n",
    "hop_state /= norm(hop_state)\n",
    "\n",
    "cols = get_cmap('copper', max_steps)\n",
    "\n",
    "c_thresh = 0.6/Ks**0.5\n",
    "for i in range(max_steps):\n",
    "    hop_hist[:,i] = np.real(np.dot(np.conj(letter_vectors_c), hop_state))    \n",
    "    hop_s_hist[:,i] = hop_state\n",
    "    \n",
    "    hop_u = np.dot(J_c, hop_state) / Ks\n",
    "    hop_state = activation_thresh(hop_u, c_thresh=c_thresh )\n",
    "    hop_state /= norm(hop_state)\n",
    "\n",
    "    plot(hop_hist[:,i], c=cols(i))\n",
    "\n",
    "hop_hist[:,i+1] =  np.real(np.dot(np.conj(letter_vectors_c), hop_state))\n",
    "plot(hop_hist[:,i], c=cols(i))"
   ]
  },
  {
   "cell_type": "code",
   "execution_count": 42,
   "metadata": {},
   "outputs": [
    {
     "data": {
      "text/plain": [
       "Text(0.5, 1.0, 'Target')"
      ]
     },
     "execution_count": 42,
     "metadata": {},
     "output_type": "execute_result"
    },
    {
     "data": {
      "image/png": "[encoded data removed]",
      "text/plain": [
       "<Figure size 432x216 with 3 Axes>"
      ]
     },
     "metadata": {
      "needs_background": "light"
     },
     "output_type": "display_data"
    }
   ],
   "source": [
    "figure(figsize=(6,3))\n",
    "\n",
    "subplot(131)\n",
    "imshow(cviz_im(hop_state_i))\n",
    "title('Initial')\n",
    "subplot(132)\n",
    "imshow(cviz_im(hop_s_hist[:, -2]))\n",
    "title('Converged')\n",
    "subplot(133)\n",
    "imshow(cviz_im(letter_vectors_c[target_idx,:]))\n",
    "title('Target')"
   ]
  },
  {
   "cell_type": "markdown",
   "metadata": {},
   "source": [
    "# Spiking TPAM "
   ]
  },
  {
   "cell_type": "markdown",
   "metadata": {
    "collapsed": true
   },
   "source": [
    "## Resonate-and-fire TPAM\n",
    "\n",
    "This implements the TPAM with resonate-and-fire neurons and complex impulse synapses. However, this implementation does not have dynamic feedback thresholding."
   ]
  },
  {
   "cell_type": "code",
   "execution_count": 13,
   "metadata": {},
   "outputs": [],
   "source": [
    "N_vec = 500\n",
    "N_inh_ff = 5\n",
    "N_out = 60\n",
    "\n",
    "pvecs = crvec(N_vec, N_out).T\n",
    "Ks = int(0.05 * N_vec)\n",
    "\n",
    "for d in range(N_out):\n",
    "    ip = np.random.choice(N_vec, size=(N_vec-Ks), replace=False)\n",
    "    pvecs[ip, d] = 0\n",
    "    \n",
    "pmat = np.dot(pvecs, np.conj(pvecs.T)) / Ks\n",
    "\n",
    "np.fill_diagonal(pmat, 0)"
   ]
  },
  {
   "cell_type": "code",
   "execution_count": 14,
   "metadata": {},
   "outputs": [],
   "source": [
    "# Neuron parameters\n",
    "C_Sh = 4 * nF # Capacitance\n",
    "L_Sh = 10e-3/1e-9  * henry # Inductance\n",
    "\n",
    "g_l = 30.0 * nS # leak conductance\n",
    "E_l = -60.0 * mV # Resting potential\n",
    "\n",
    "V_t = -58.0 * mV # Threshold\n",
    "\n",
    "\n",
    "eqs_2_h = Equations('''\n",
    "    dVs/dt = (g_l * (E_l - Vs) - 2*pi*Us + I_ext) / C_Sh : volt\n",
    "    dUs/dt = -2*pi*(E_l - Vs) / L_Sh : amp\n",
    "    I_ext : amp\n",
    "    ''')\n",
    "\n",
    "s_h = '''\n",
    "mag_v : 1\n",
    "mag_u : 1\n",
    "'''\n",
    "s_h_on_pre = '''\n",
    "Vs_post += mag_v * mV\n",
    "Us_post += mag_u * nA\n",
    "'''"
   ]
  },
  {
   "cell_type": "code",
   "execution_count": 16,
   "metadata": {},
   "outputs": [
    {
     "name": "stdout",
     "output_type": "stream",
     "text": [
      "5. Hz\n"
     ]
    }
   ],
   "source": [
    "cycle_freq = 1/(np.sqrt(L_Sh * C_Sh))\n",
    "VU_factor = sqrt(C_Sh/L_Sh) * mV/nA\n",
    "\n",
    "print(cycle_freq) # (.) Added by JL, 2020/07/26"
   ]
  },
  {
   "cell_type": "code",
   "execution_count": 17,
   "metadata": {},
   "outputs": [],
   "source": [
    "nreps = 1\n",
    "\n",
    "target_idx = 22\n",
    "\n",
    "init_vector = pvecs[:, target_idx].copy()\n",
    "\n",
    "init_vector[200:] = 0\n",
    "keep_idx = np.abs(init_vector) > 0.5\n",
    "\n",
    "stt = phase2spikes(init_vector)*second  +0.11*second\n",
    "#spike_indices = np.zeros_like(stt)\n",
    "spike_indices = np.arange(stt.shape[0])\n",
    "\n",
    "#keep_idx = np.random.rand(stt.shape[0]) < 1\n",
    "stt = stt[keep_idx]\n",
    "spike_indices = spike_indices[keep_idx]\n",
    "\n",
    "spike_times = np.tile(stt, (nreps))\n",
    "spike_indices = np.tile(spike_indices, (nreps))\n",
    "\n",
    "for i in range(nreps):\n",
    "    spike_times[(i*N_vec):((i+1)*N_vec)] = spike_times[:N_vec] + i * 200*ms"
   ]
  },
  {
   "cell_type": "code",
   "execution_count": 18,
   "metadata": {},
   "outputs": [
    {
     "name": "stderr",
     "output_type": "stream",
     "text": [
      "WARNING    \"i\" is an internal variable of group \"synapses\", but also exists in the run namespace with the value 0. The internal variable will be used. [brian2.groups.group.Group.resolve.resolution_conflict]\n"
     ]
    }
   ],
   "source": [
    "\n",
    "G_pre = SpikeGeneratorGroup(N_vec, spike_indices, spike_times)\n",
    "G_post = NeuronGroup(N_vec, model=eqs_2_h, threshold='Vs>V_t and Us>0*nA',  \n",
    "                     refractory=120*ms, method='euler')\n",
    "\n",
    "G_post.Vs = (E_l + 0.0*mV) * ones(N_vec)\n",
    "G_post.Us = 0.0 * VU_factor * nA * ones(N_vec)\n",
    "G_post.I_ext = 0\n",
    "\n",
    "S_pre_post = Synapses(G_pre, G_post, s_h, on_pre=s_h_on_pre, method='euler')\n",
    "S_recurrent = Synapses(G_post, G_post, s_h, on_pre=s_h_on_pre, method='euler')\n",
    "\n",
    "# Input connections\n",
    "S_pre_post.connect(j='i')\n",
    "S_pre_post.mag_u = -0.1 * VU_factor\n",
    "S_pre_post.mag_v = 3\n",
    "\n",
    "# Recurrent connections\n",
    "syn_thresh = 0.1 / (2*N_vec) ** 0.5\n",
    "synidxs = np.where(np.abs(pmat.T) > syn_thresh)\n",
    "S_recurrent.connect(i=synidxs[0], j=synidxs[1])\n",
    "\n",
    "syn_idxs_f = np.where(np.abs(pmat.T).flatten() > syn_thresh)[0]\n",
    "syn_abs = np.abs(pmat.T).flatten()\n",
    "syn_phase = -1*np.angle(pmat.T).flatten()\n",
    "\n",
    "syn_g = 5.0\n",
    "S_recurrent.mag_v = syn_g * syn_abs[syn_idxs_f] * np.cos(syn_phase[syn_idxs_f])\n",
    "S_recurrent.mag_u = syn_g * syn_abs[syn_idxs_f] * VU_factor * np.sin(syn_phase[syn_idxs_f])\n",
    "\n",
    "# Monitors\n",
    "SpM_post = SpikeMonitor(G_post)\n",
    "StM_post = StateMonitor(G_post, True, record=True)\n"
   ]
  },
  {
   "cell_type": "code",
   "execution_count": 19,
   "metadata": {},
   "outputs": [],
   "source": [
    "complex_net = Network()\n",
    "complex_net.add(G_pre)\n",
    "complex_net.add(G_post)\n",
    "\n",
    "complex_net.add(S_pre_post)\n",
    "complex_net.add(S_recurrent)\n",
    "\n",
    "complex_net.add(SpM_post)\n",
    "complex_net.add(StM_post)\n",
    "\n",
    "complex_net.store('init')"
   ]
  },
  {
   "cell_type": "code",
   "execution_count": 21,
   "metadata": {},
   "outputs": [
    {
     "name": "stdout",
     "output_type": "stream",
     "text": [
      "elapsed 20.687238216400146\n"
     ]
    }
   ],
   "source": [
    "run_time = 5.0 * second\n",
    "#complex_net.restore('init')\n",
    "tst = time.time()\n",
    "complex_net.run(run_time)\n",
    "print(\"elapsed\", time.time() - tst) # (.) Added by JL, 2020/07/26"
   ]
  },
  {
   "cell_type": "code",
   "execution_count": 22,
   "metadata": {},
   "outputs": [
    {
     "data": {
      "image/png": "[encoded data removed]",
      "text/plain": [
       "<Figure size 252x216 with 1 Axes>"
      ]
     },
     "metadata": {
      "needs_background": "light"
     },
     "output_type": "display_data"
    }
   ],
   "source": [
    "figure(figsize=(3.5,3))\n",
    "\n",
    "spike_trains_post = SpM_post.spike_trains()\n",
    "\n",
    "for i in range(N_vec):\n",
    "    plot(spike_trains_post[i], i * ones(len(spike_trains_post[i])), '|', mew=2)\n",
    "\n",
    "ylim([0, N_vec])\n",
    "xlim([0, 1])\n",
    "\n",
    "xlabel('Time (s)')\n",
    "\n",
    "plt.tight_layout()"
   ]
  },
  {
   "cell_type": "code",
   "execution_count": 23,
   "metadata": {},
   "outputs": [
    {
     "name": "stdout",
     "output_type": "stream",
     "text": [
      "25 == 25\n"
     ]
    },
    {
     "data": {
      "image/png": "[encoded data removed]",
      "text/plain": [
       "<Figure size 576x252 with 2 Axes>"
      ]
     },
     "metadata": {
      "needs_background": "light"
     },
     "output_type": "display_data"
    }
   ],
   "source": [
    "figure(figsize=(8,3.5))\n",
    "\n",
    "subplot(121)\n",
    "c=0\n",
    "for i in range(N_vec):\n",
    "    plot(spike_trains_post[i], i * ones(len(spike_trains_post[i])), '|', mew=2)\n",
    "    if len(spike_trains_post[i])>2:\n",
    "        c+=1\n",
    "        \n",
    "print(c, '==', Ks)\n",
    "\n",
    "xlim([4,5])\n",
    "ylim([0, N_vec])\n",
    "\n",
    "xlabel('Time (s)')\n",
    "title('Network')\n",
    "\n",
    "\n",
    "target_vector = pvecs[:, target_idx].copy()\n",
    "\n",
    "stt = phase2spikes(target_vector)*second  +0.11*second\n",
    "spike_indices = np.arange(stt.shape[0])\n",
    "\n",
    "keep_idx = np.abs(target_vector) > 0.5\n",
    "stt = stt[keep_idx]\n",
    "spike_indices = spike_indices[keep_idx]\n",
    "\n",
    "nreps = 10\n",
    "spike_times_target = np.tile(stt, (nreps))\n",
    "spike_indices_target = np.tile(spike_indices, (nreps))\n",
    "\n",
    "for i in range(nreps):\n",
    "    spike_times_target[(np.arange(len(stt)) + i * len(stt))] = spike_times_target[:len(stt)] + i * 200*ms\n",
    "\n",
    "    \n",
    "subplot(122)\n",
    "for i in range(N_vec):\n",
    "    sp_times = spike_times_target[spike_indices_target==i]\n",
    "    plot(sp_times, i*np.ones(sp_times.shape) , '|', mew=2)\n",
    "\n",
    "xlabel('Time (s)')\n",
    "xlim([0, 1])\n",
    "ylim([0, N_vec])\n",
    "title('Target')\n",
    "\n",
    "plt.tight_layout()\n"
   ]
  },
  {
   "cell_type": "code",
   "execution_count": 24,
   "metadata": {},
   "outputs": [
    {
     "data": {
      "image/png": "[encoded data removed]",
      "text/plain": [
       "<Figure size 252x216 with 1 Axes>"
      ]
     },
     "metadata": {},
     "output_type": "display_data"
    }
   ],
   "source": [
    "figure(figsize=(3.5,3))\n",
    "\n",
    "N_ex = spike_indices[0]\n",
    "ex=2\n",
    "\n",
    "plot(StM_post.Vs[N_ex]/mV, StM_post.Us[N_ex]/nA, c='cyan', lw=2)\n",
    "plot(StM_post.Vs[ex]/mV, StM_post.Us[ex]/nA, c=[0.3, 0.3, 0.3], lw=2)\n",
    "\n",
    "xl_V = 8*mV\n",
    "xlim([E_l/mV - xl_V/mV, E_l/mV + xl_V/mV])\n",
    "ylim([- xl_V * VU_factor /mV, xl_V * VU_factor/mV])\n",
    "\n",
    "xticks([])\n",
    "yticks([])\n",
    "xlabel('$V$ (mV)')\n",
    "ylabel('$U$ (nA)')\n",
    "\n",
    "plt.tight_layout()"
   ]
  },
  {
   "cell_type": "markdown",
   "metadata": {},
   "source": [
    "## Biophysical TPAM"
   ]
  },
  {
   "cell_type": "code",
   "execution_count": 25,
   "metadata": {},
   "outputs": [],
   "source": [
    "# Neuron parameters\n",
    "C_ex = 0.5 * nF # Capacitance of action-potential compartment\n",
    "C_in = 0.5 * nF # Capacitance of inhibitory cells\n",
    "\n",
    "g_l =  4.0 * nS # leak conductance\n",
    "E_l = -60.0 * mV # Resting potential\n",
    "\n",
    "V_t = -58.0 * mV # Threshold\n",
    "V_r = -62.0 * mV # Reset\n",
    "\n",
    "eqs_1 = Equations('''\n",
    "    dV/dt = (g_l * (E_l - V) + I_ext + I_rec + I_inh + I_c) / C_ex : volt\n",
    "    I_ext : amp\n",
    "    I_rec : amp\n",
    "    I_inh : amp\n",
    "    I_c : amp\n",
    "    ''')\n",
    "eqs_1_in = Equations('''\n",
    "    dV/dt = (g_l * (E_l - V) + I_ext + I_rec + I_inh + I_c) / C_in : volt\n",
    "    I_ext : amp\n",
    "    I_rec : amp\n",
    "    I_inh : amp\n",
    "    I_c : amp\n",
    "    ''')\n",
    "\n",
    "s_delay = 0\n",
    "s_c_freq = (2*np.pi* (5.0)) / second\n",
    "\n",
    "s_delay_pre = '''\n",
    "mag : 1\n",
    "I_ext_post = sx * nA : amp (summed)\n",
    "dsx/dt = -s_c_freq * sx : 1 (clock-driven)\n",
    "'''\n",
    "s_delay_inh = '''\n",
    "mag : 1\n",
    "I_inh_post = sx * nA : amp (summed)\n",
    "dsx/dt = -0.25*s_c_freq * sx : 1 (clock-driven)\n",
    "'''\n",
    "s_delay_rec = '''\n",
    "mag : 1\n",
    "I_rec_post = sx * nA : amp (summed)\n",
    "dsx/dt = -s_c_freq * sx : 1 (clock-driven)\n",
    "'''\n",
    "\n",
    "s_delay_on_pre = '''\n",
    "sx += mag\n",
    "'''"
   ]
  },
  {
   "cell_type": "code",
   "execution_count": 26,
   "metadata": {},
   "outputs": [],
   "source": [
    "N_vec = 500\n",
    "N_inh_ff = 5\n",
    "N_out = 100"
   ]
  },
  {
   "cell_type": "code",
   "execution_count": 27,
   "metadata": {},
   "outputs": [],
   "source": [
    "pvecs = crvec(N_vec, N_out).T\n",
    "Ks = int(0.05 * N_vec)\n",
    "\n",
    "for d in range(N_out):\n",
    "    ip = np.random.choice(N_vec, size=(N_vec-Ks), replace=False)\n",
    "    pvecs[ip, d] = 0\n",
    "    \n",
    "pmat = np.dot(pvecs, np.conj(pvecs.T)) / Ks\n",
    "\n",
    "np.fill_diagonal(pmat, 0)"
   ]
  },
  {
   "cell_type": "code",
   "execution_count": 28,
   "metadata": {},
   "outputs": [],
   "source": [
    "target_idx = 86\n",
    "init_vector = pvecs[:, target_idx].copy()\n",
    "#init_vector += pvecs[:, 7] + pvecs[:, 22]\n",
    "init_vector[200:] = 0"
   ]
  },
  {
   "cell_type": "code",
   "execution_count": 29,
   "metadata": {},
   "outputs": [],
   "source": [
    "stt = phase2spikes(init_vector)*second  +0.11*second\n",
    "spike_indices = np.arange(stt.shape[0])"
   ]
  },
  {
   "cell_type": "code",
   "execution_count": 30,
   "metadata": {},
   "outputs": [],
   "source": [
    "keep_idx = np.abs(init_vector) > 0.5\n",
    "stt = stt[keep_idx]\n",
    "spike_indices = spike_indices[keep_idx]"
   ]
  },
  {
   "cell_type": "code",
   "execution_count": 31,
   "metadata": {},
   "outputs": [],
   "source": [
    "nreps = 1\n",
    "spike_times = np.tile(stt, (nreps))\n",
    "spike_indices = np.tile(spike_indices, (nreps))\n",
    "\n",
    "for i in range(nreps):\n",
    "    spike_times[(i*N_vec):((i+1)*N_vec)] = spike_times[:N_vec] + i * 200*ms"
   ]
  },
  {
   "cell_type": "code",
   "execution_count": 32,
   "metadata": {},
   "outputs": [
    {
     "name": "stdout",
     "output_type": "stream",
     "text": [
      "RC delay: 7.93700478 ms\n"
     ]
    }
   ],
   "source": [
    "phase_shift =  np.arctan(g_l/(s_c_freq *  C_ex))\n",
    "rc_delay = phase_shift/s_c_freq\n",
    "\n",
    "print('RC delay:', rc_delay)"
   ]
  },
  {
   "cell_type": "code",
   "execution_count": 33,
   "metadata": {},
   "outputs": [
    {
     "name": "stderr",
     "output_type": "stream",
     "text": [
      "WARNING    \"i\" is an internal variable of group \"synapses_2\", but also exists in the run namespace with the value 0. The internal variable will be used. [brian2.groups.group.Group.resolve.resolution_conflict]\n"
     ]
    }
   ],
   "source": [
    "G_pre = SpikeGeneratorGroup(N_vec, spike_indices, spike_times)\n",
    "G_post = NeuronGroup(N_vec, model=eqs_1, threshold='V>V_t', reset='V=V_r', refractory=150*ms, method='euler')\n",
    "G_inh_ff = NeuronGroup(N_inh_ff, model=eqs_1_in, threshold='V>V_t', reset='V=V_r', refractory=0*ms, method='euler')\n",
    "\n",
    "G_post.V = E_l * ones(N_vec) + 0*mV * np.random.randn(N_vec)\n",
    "G_post.I_c = 1.0 * pA + 1.0*pA *np.random.randn(N_vec)\n",
    "G_inh_ff.V = E_l * ones(N_inh_ff) + 0*mV * np.random.randn(N_inh_ff)\n",
    "G_inh_ff.I_c = 1.0 * pA + 1.0*pA *np.random.randn(N_inh_ff)\n",
    "\n",
    "\n",
    "S_pre_post = Synapses(G_pre, G_post, s_delay_pre, on_pre=s_delay_on_pre, method='euler')\n",
    "S_pre_inh_ff = Synapses(G_pre, G_inh_ff, s_delay_pre, on_pre=s_delay_on_pre, method='euler')\n",
    "\n",
    "S_recurrent = Synapses(G_post, G_post, s_delay_rec, on_pre=s_delay_on_pre, method='euler')\n",
    "#S_post_inh_ff = Synapses(G_post, G_inh_ff, s_delay_inh, on_pre=s_delay_on_pre, method='euler')\n",
    "S_post_inh_ff = Synapses(G_post, G_inh_ff, s_delay_rec, on_pre=s_delay_on_pre, method='euler')\n",
    "\n",
    "S_inh_ff_post = Synapses(G_inh_ff, G_post, s_delay_inh, on_pre=s_delay_on_pre, method='euler')\n",
    "\n",
    "\n",
    "S_pre_post.connect(j='i')\n",
    "S_pre_post.mag = 0.3\n",
    "S_pre_post.delay = 30.0*ms\n",
    "\n",
    "S_pre_inh_ff.connect()\n",
    "S_pre_inh_ff.mag = 0.5/Ks\n",
    "S_pre_inh_ff.delay = 0.0*ms\n",
    "\n",
    "\n",
    "syn_thresh = 0.1 / (2*N_vec) ** 0.5\n",
    "synidxs = np.where(np.abs(pmat.T) > syn_thresh)\n",
    "S_recurrent.connect(i=synidxs[0], j=synidxs[1])\n",
    "\n",
    "syn_idxs_f = np.where(np.abs(pmat.T).flatten() > syn_thresh)[0]\n",
    "syn_abs = np.abs(pmat.T).flatten()\n",
    "syn_phase = np.angle(pmat.T).flatten()\n",
    "S_recurrent.mag = 1.5 * syn_abs[syn_idxs_f]\n",
    "S_recurrent.delay = syn_phase[syn_idxs_f] / s_c_freq + 2*np.pi/s_c_freq - 1.5*rc_delay\n",
    "\n",
    "\n",
    "S_post_inh_ff.connect()\n",
    "S_post_inh_ff.mag = 0.6/Ks\n",
    "S_post_inh_ff.delay = 2.0*ms\n",
    "\n",
    "\n",
    "S_inh_ff_post.connect()\n",
    "S_inh_ff_post.mag = -0.04 / N_inh_ff\n",
    "S_inh_ff_post.delay = 2.0*ms\n",
    "\n",
    "\n",
    "SpM_post = SpikeMonitor(G_post)\n",
    "SpM_inh_ff = SpikeMonitor(G_inh_ff)\n",
    "\n",
    "StM_post = StateMonitor(G_post, True, record=True)\n",
    "StM_inh_ff = StateMonitor(G_inh_ff, True, record=True)"
   ]
  },
  {
   "cell_type": "code",
   "execution_count": 34,
   "metadata": {},
   "outputs": [],
   "source": [
    "complex_net = Network()\n",
    "complex_net.add(G_pre)\n",
    "complex_net.add(G_post)\n",
    "complex_net.add(G_inh_ff)\n",
    "\n",
    "complex_net.add(S_pre_post)\n",
    "complex_net.add(S_pre_inh_ff)\n",
    "\n",
    "complex_net.add(S_inh_ff_post)\n",
    "\n",
    "complex_net.add(S_recurrent)\n",
    "complex_net.add(S_post_inh_ff)\n",
    "\n",
    "complex_net.add(SpM_post)\n",
    "complex_net.add(SpM_inh_ff)\n",
    "complex_net.add(StM_post)\n",
    "complex_net.add(StM_inh_ff)\n",
    "\n",
    "complex_net.store('init')"
   ]
  },
  {
   "cell_type": "code",
   "execution_count": 35,
   "metadata": {},
   "outputs": [
    {
     "name": "stdout",
     "output_type": "stream",
     "text": [
      "elapsed 59.003445625305176\n"
     ]
    }
   ],
   "source": [
    "run_time = 5.0 * second\n",
    "complex_net.restore('init')\n",
    "tst = time.time()\n",
    "complex_net.run(run_time)\n",
    "print(\"elapsed\", time.time() - tst)"
   ]
  },
  {
   "cell_type": "code",
   "execution_count": 36,
   "metadata": {},
   "outputs": [
    {
     "name": "stdout",
     "output_type": "stream",
     "text": [
      "205.8 ms\n"
     ]
    },
    {
     "data": {
      "image/png": "[encoded data removed]",
      "text/plain": [
       "<Figure size 288x288 with 2 Axes>"
      ]
     },
     "metadata": {
      "needs_background": "light"
     },
     "output_type": "display_data"
    }
   ],
   "source": [
    "figure(figsize=(4,4))\n",
    "\n",
    "N_ex = spike_indices[2]\n",
    "\n",
    "subplot(211)\n",
    "plot(StM_post.t / second, StM_post.I_rec[N_ex,:]/nA, 'g', lw=2)\n",
    "plot(StM_post.t / second, StM_post.I_inh[N_ex,:]/nA, 'r', lw=2)\n",
    "plot(StM_post.t / second, StM_post.I_ext[N_ex,:]/nA, 'c', lw=2)\n",
    "xticks([])\n",
    "xlim([0, 2])\n",
    "ylim([-0.4, 0.8])\n",
    "ylabel('Input (nA)')\n",
    "\n",
    "subplot(212)\n",
    "plot(StM_post.t/ second, StM_post.V[N_ex,:] / mV, 'k', lw=2);\n",
    "spike_trains_post = SpM_post.spike_trains()\n",
    "plot(spike_trains_post[N_ex]/second, V_t / mV * ones(len(spike_trains_post[N_ex])), 'cx', lw=2, mew=2, ms=10)\n",
    "\n",
    "print(np.median(np.diff(spike_trains_post[N_ex])))\n",
    "\n",
    "xlim([0,2.0])\n",
    "ylim([-75, -45])\n",
    "xlabel('Time (s)')\n",
    "ylabel('Voltage (mV)')\n",
    "\n",
    "plt.tight_layout()\n"
   ]
  },
  {
   "cell_type": "code",
   "execution_count": 37,
   "metadata": {},
   "outputs": [
    {
     "name": "stdout",
     "output_type": "stream",
     "text": [
      "25 == 25\n"
     ]
    },
    {
     "data": {
      "image/png": "[encoded data removed]",
      "text/plain": [
       "<Figure size 252x216 with 1 Axes>"
      ]
     },
     "metadata": {
      "needs_background": "light"
     },
     "output_type": "display_data"
    }
   ],
   "source": [
    "figure(figsize=(3.5,3))\n",
    "\n",
    "c=0\n",
    "for i in range(N_vec):\n",
    "    plot(spike_trains_post[i], i * ones(len(spike_trains_post[i])), '|', mew=2)\n",
    "    if len(spike_trains_post[i])>2:\n",
    "        c+=1\n",
    "        \n",
    "print(c, '==', Ks)\n",
    "\n",
    "xlim([0,2])\n",
    "ylim([0, N_vec])\n",
    "\n",
    "xlabel('Time (s)')\n",
    "title('Network')\n",
    "\n",
    "plt.tight_layout()\n"
   ]
  },
  {
   "cell_type": "code",
   "execution_count": 38,
   "metadata": {},
   "outputs": [
    {
     "name": "stdout",
     "output_type": "stream",
     "text": [
      "25 == 25\n"
     ]
    },
    {
     "data": {
      "image/png": "[encoded data removed]",
      "text/plain": [
       "<Figure size 504x216 with 2 Axes>"
      ]
     },
     "metadata": {
      "needs_background": "light"
     },
     "output_type": "display_data"
    }
   ],
   "source": [
    "figure(figsize=(7,3))\n",
    "\n",
    "subplot(121)\n",
    "c=0\n",
    "for i in range(N_vec):\n",
    "    plot(spike_trains_post[i], i * ones(len(spike_trains_post[i])), '|', mew=2)\n",
    "    if len(spike_trains_post[i])>2:\n",
    "        c+=1\n",
    "        \n",
    "print(c, '==', Ks)\n",
    "\n",
    "xlim([4,5])\n",
    "ylim([0, N_vec])\n",
    "\n",
    "xlabel('Time (s)')\n",
    "title('Network')\n",
    "\n",
    "\n",
    "target_vector = pvecs[:, target_idx].copy()\n",
    "\n",
    "stt = phase2spikes(target_vector)*second  +0.11*second\n",
    "spike_indices = np.arange(stt.shape[0])\n",
    "\n",
    "keep_idx = np.abs(target_vector) > 0.5\n",
    "stt = stt[keep_idx]\n",
    "spike_indices = spike_indices[keep_idx]\n",
    "\n",
    "nreps = 10\n",
    "spike_times_target = np.tile(stt, (nreps))\n",
    "spike_indices_target = np.tile(spike_indices, (nreps))\n",
    "\n",
    "for i in range(nreps):\n",
    "    spike_times_target[(np.arange(len(stt)) + i * len(stt))] = spike_times_target[:len(stt)] + i * 200*ms\n",
    "\n",
    "    \n",
    "subplot(122)\n",
    "for i in range(N_vec):\n",
    "    sp_times = spike_times_target[spike_indices_target==i]\n",
    "    plot(sp_times, i*np.ones(sp_times.shape) , '|', mew=2)\n",
    "\n",
    "xlabel('Time (s)')\n",
    "xlim([0, 1])\n",
    "ylim([0, N_vec])\n",
    "title('Target')\n",
    "\n",
    "plt.tight_layout()\n"
   ]
  },
  {
   "cell_type": "code",
   "execution_count": null,
   "metadata": {},
   "outputs": [],
   "source": []
  }
 ],
 "metadata": {
  "kernelspec": {
   "display_name": "Python 3",
   "language": "python",
   "name": "python3"
  },
  "language_info": {
   "codemirror_mode": {
    "name": "ipython",
    "version": 3
   },
   "file_extension": ".py",
   "mimetype": "text/x-python",
   "name": "python",
   "nbconvert_exporter": "python",
   "pygments_lexer": "ipython3",
   "version": "3.7.4"
  }
 },
 "nbformat": 4,
 "nbformat_minor": 2
}
